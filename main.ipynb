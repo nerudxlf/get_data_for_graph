{
  "nbformat": 4,
  "nbformat_minor": 0,
  "metadata": {
    "colab": {
      "name": "main.ipynb",
      "provenance": [],
      "authorship_tag": "ABX9TyM4cG0NF6HSE3E/E5s1ZOzP",
      "include_colab_link": true
    },
    "kernelspec": {
      "name": "python3",
      "display_name": "Python 3"
    }
  },
  "cells": [
    {
      "cell_type": "markdown",
      "metadata": {
        "id": "view-in-github",
        "colab_type": "text"
      },
      "source": [
        "<a href=\"https://colab.research.google.com/github/nerudxlf/get_data_for_graph/blob/main/main.ipynb\" target=\"_parent\"><img src=\"https://colab.research.google.com/assets/colab-badge.svg\" alt=\"Open In Colab\"/></a>"
      ]
    },
    {
      "cell_type": "code",
      "metadata": {
        "id": "BraNLwWp-5D0"
      },
      "source": [
        "import re\r\n",
        "from collections import Counter\r\n",
        "from google.colab import files\r\n",
        "\r\n",
        "import pandas as pd\r\n",
        "\r\n",
        "files.upload()"
      ],
      "execution_count": null,
      "outputs": []
    },
    {
      "cell_type": "code",
      "metadata": {
        "id": "fGwxomxs_cK-"
      },
      "source": [
        "def new_name(name_list: list) -> list:\r\n",
        "    \"\"\"\r\n",
        "    Функция преобразует Фамилия Имя Отчество к формату фамилия ио\r\n",
        "    :param name_list:\r\n",
        "    :return:\r\n",
        "    \"\"\"\r\n",
        "    result_arr = []\r\n",
        "    for i in name_list:\r\n",
        "        string_fio = \"\"\r\n",
        "        if isinstance(i, float):\r\n",
        "            result_arr.append(\"\")\r\n",
        "            continue\r\n",
        "        if i.find(\".,\") != -1:\r\n",
        "            i = i.replace(\".,\", \".\")\r\n",
        "        fio = i.lower().split(\" \")\r\n",
        "        first_name = re.sub(r'[^A-Za-z]', '', fio[0])\r\n",
        "        last_name = fio[1:]\r\n",
        "        string_fio += first_name + \" \"\r\n",
        "        if len(last_name) == 1:\r\n",
        "            new_io = re.sub(r'[^A-Za-z]', '', last_name[0])\r\n",
        "            if new_io != 2 or new_io != 1:\r\n",
        "                new_io = new_io[0]\r\n",
        "            string_fio += new_io\r\n",
        "        elif len(last_name) == 2:\r\n",
        "            string_fio += re.sub(r'[^A-Za-z]', '', last_name[0])[0] + re.sub(r'[^A-Za-z]', '', last_name[1])[0]\r\n",
        "        elif len(last_name) == 3:\r\n",
        "            string_fio += re.sub(r'[^A-Za-z]', '', last_name[1]) + re.sub(r'[^A-Za-z]', '', last_name[2])\r\n",
        "        result_arr.append(string_fio)\r\n",
        "    return result_arr"
      ],
      "execution_count": null,
      "outputs": []
    },
    {
      "cell_type": "code",
      "metadata": {
        "id": "WUoJLv_R_hpm"
      },
      "source": [
        "df = pd.read_excel(\"data.xlsx\")\r\n",
        "result_dict = {}\r\n",
        "new_dict = {}\r\n",
        "result_list_name, result_list_university = [], []\r\n",
        "name_list = df['Авторы'].to_list()\r\n",
        "university = df['Университет'].to_list()\r\n",
        "country = df['Страна'].to_list()\r\n",
        "name_list_set = list(set(name_list))\r\n",
        "\r\n",
        "for i in name_list_set:\r\n",
        "  new_dict |= {i: []}\r\n",
        "\r\n",
        "for key, item in new_dict.items():\r\n",
        "  for i in range(len(name_list)):\r\n",
        "    if name_list[i] == key:\r\n",
        "      item.append(university[i])\r\n",
        "\r\n",
        "for key, item in new_dict.items():\r\n",
        "  for i in item:\r\n",
        "    if i == \"Omsk State Tech Univ\" and len(set(item)) > 1:\r\n",
        "      result_dict |= {key: \"Omsk State Tech Univ+\"}\r\n",
        "      break\r\n",
        "    elif i == \"Omsk State Tech Univ\" and len(set(item)) == 1:\r\n",
        "      result_dict |= {key: \"Omsk State Tech Univ\"}\r\n",
        "      break\r\n",
        "    else:\r\n",
        "      cnt = Counter(item)\r\n",
        "      result_dict |= {key: list(cnt.keys())[0] + \"+\"}\r\n",
        "      break\r\n",
        "\r\n",
        "for key, item in result_dict.items():\r\n",
        "  result_list_name.append(key)\r\n",
        "  result_list_university.append(item)\r\n",
        "\r\n",
        "df_name_university = pd.DataFrame({\"Автор\": result_list_name, \"Университет\": result_list_university})\r\n",
        "df_country = pd.DataFrame({\"Страна\": country, \"Автор\": name_list})\r\n",
        "result_name_university_country = pd.merge(left=df_name_university, right=df_country, left_on=\"Автор\",\r\n",
        "                                              right_on=\"Автор\")\r\n",
        "list_new_name = result_name_university_country[\"Автор\"].to_list()\r\n",
        "list_new_country = result_name_university_country[\"Страна\"].to_list()\r\n",
        "list_new_university = result_name_university_country[\"Университет\"].to_list()\r\n",
        "list_new_name = new_name(list_new_name)\r\n",
        "result = pd.DataFrame({\"Автор\": list_new_name, \"Университет\": list_new_university, \"Страна\": list_new_country})\r\n",
        "result = result.drop_duplicates(keep=\"last\")\r\n",
        "result.to_excel(\"result_new_new.xlsx\", index=False)"
      ],
      "execution_count": null,
      "outputs": []
    }
  ]
}