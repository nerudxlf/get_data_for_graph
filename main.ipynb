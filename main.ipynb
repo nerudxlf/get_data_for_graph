{
  "nbformat": 4,
  "nbformat_minor": 0,
  "metadata": {
    "colab": {
      "name": "main.ipynb",
      "provenance": [],
      "include_colab_link": true
    },
    "kernelspec": {
      "name": "python3",
      "display_name": "Python 3"
    }
  },
  "cells": [
    {
      "cell_type": "markdown",
      "metadata": {
        "id": "view-in-github",
        "colab_type": "text"
      },
      "source": [
        "<a href=\"https://colab.research.google.com/github/nerudxlf/get_data_for_graph/blob/main/main.ipynb\" target=\"_parent\"><img src=\"https://colab.research.google.com/assets/colab-badge.svg\" alt=\"Open In Colab\"/></a>"
      ]
    },
    {
      "cell_type": "code",
      "metadata": {
        "id": "BraNLwWp-5D0"
      },
      "source": [
        "import re\r\n",
        "from collections import Counter\r\n",
        "from google.colab import files\r\n",
        "\r\n",
        "import pandas as pd\r\n",
        "\r\n",
        "files.upload()"
      ],
      "execution_count": null,
      "outputs": []
    },
    {
      "cell_type": "code",
      "metadata": {
        "id": "fGwxomxs_cK-"
      },
      "source": [
        "def new_name(name_list: list) -> list:\r\n",
        "    \"\"\"\r\n",
        "    Функция преобразует Фамилия Имя Отчество к формату фамилия ио\r\n",
        "    :param name_list:\r\n",
        "    :return:\r\n",
        "    \"\"\"\r\n",
        "    result_arr = []\r\n",
        "    for i in name_list:\r\n",
        "        string_fio = \"\"\r\n",
        "        if isinstance(i, float):\r\n",
        "            result_arr.append(\"\")\r\n",
        "            continue\r\n",
        "        if i.find(\".,\") != -1:\r\n",
        "            i = i.replace(\".,\", \".\")\r\n",
        "        fio = i.lower().split(\" \")\r\n",
        "        first_name = re.sub(r'[^A-Za-z]', '', fio[0])\r\n",
        "        last_name = fio[1:]\r\n",
        "        string_fio += first_name + \" \"\r\n",
        "        if len(last_name) == 1:\r\n",
        "            new_io = re.sub(r'[^A-Za-z]', '', last_name[0])\r\n",
        "            if new_io != 2 or new_io != 1:\r\n",
        "                new_io = new_io[0]\r\n",
        "            string_fio += new_io\r\n",
        "        elif len(last_name) == 2:\r\n",
        "            string_fio += re.sub(r'[^A-Za-z]', '', last_name[0])[0] + re.sub(r'[^A-Za-z]', '', last_name[1])[0]\r\n",
        "        elif len(last_name) == 3:\r\n",
        "            string_fio += re.sub(r'[^A-Za-z]', '', last_name[1]) + re.sub(r'[^A-Za-z]', '', last_name[2])\r\n",
        "        result_arr.append(string_fio)\r\n",
        "    return result_arr"
      ],
      "execution_count": 2,
      "outputs": []
    },
    {
      "cell_type": "code",
      "metadata": {
        "id": "WUoJLv_R_hpm",
        "colab": {
          "base_uri": "https://localhost:8080/"
        },
        "outputId": "8c94f402-efab-4891-a8f3-fb14170407ea"
      },
      "source": [
        "df = pd.read_excel(\"data.xlsx\")\r\n",
        "result_dict = {}\r\n",
        "new_dict = {}\r\n",
        "result_list_name, result_list_university = [], []\r\n",
        "name_list = df['Авторы'].to_list()\r\n",
        "university = df['Университет'].to_list()\r\n",
        "country = df['Страна'].to_list()\r\n",
        "name_list_set = list(set(name_list))\r\n",
        "\r\n",
        "for i in name_list_set:\r\n",
        "  new_dict.update({i: []})\r\n",
        "\r\n",
        "for key, item in new_dict.items():\r\n",
        "  for i in range(len(name_list)):\r\n",
        "    if name_list[i] == key:\r\n",
        "      item.append(university[i])\r\n",
        "\r\n",
        "for key, item in new_dict.items():\r\n",
        "  for i in item:\r\n",
        "    if i == \"Omsk State Tech Univ\" and len(set(item)) > 1:\r\n",
        "      result_dict.update({key: \"Omsk State Tech Univ+\"})\r\n",
        "      break\r\n",
        "    elif i == \"Omsk State Tech Univ\" and len(set(item)) == 1:\r\n",
        "      result_dict.update({key: \"Omsk State Tech Univ\"})\r\n",
        "      break\r\n",
        "    else:\r\n",
        "      cnt = Counter(item)\r\n",
        "      if len(list(cnt.keys())) == 1:\r\n",
        "        result_dict.update({key: list(cnt.keys())[0]})\r\n",
        "      else:\r\n",
        "        result_dict.update({key: list(cnt.keys())[0] + \"+\"})\r\n",
        "      break\r\n",
        "\r\n",
        "for key, item in result_dict.items():\r\n",
        "  result_list_name.append(key)\r\n",
        "  result_list_university.append(item)\r\n",
        "\r\n",
        "df_name_university = pd.DataFrame({\"Автор\": result_list_name, \"Университет\": result_list_university})\r\n",
        "df_country = pd.DataFrame({\"Страна\": country, \"Автор\": name_list})\r\n",
        "result_name_university_country = pd.merge(left=df_name_university, right=df_country, left_on=\"Автор\",\r\n",
        "                                              right_on=\"Автор\")\r\n",
        "list_new_name = result_name_university_country[\"Автор\"].to_list()\r\n",
        "\r\n",
        "list_new_country = result_name_university_country[\"Страна\"].to_list()\r\n",
        "list_new_university = result_name_university_country[\"Университет\"].to_list()\r\n",
        "list_new_name = new_name(list_new_name)\r\n",
        "for i in range(len(list_new_name)):\r\n",
        "  list_new_name[i] = list_new_name[i].replace(' ', ', ')\r\n",
        "result = pd.DataFrame({\"Автор\": list_new_name, \"Университет\": list_new_university, \"Страна\": list_new_country})\r\n",
        "result = result.drop_duplicates(keep=\"last\")\r\n",
        "result.to_excel(\"result_new_new.xlsx\", index=False)"
      ],
      "execution_count": 5,
      "outputs": [
        {
          "output_type": "stream",
          "text": [
            "['smirnova, ns', 'pavlyuchenko, pe', 'serkova, lb', 'doronin, fa', 'doronin, fa', 'doronin, fa', 'boykov, dv', 'tarasov, vn', 'tarasov, vn', 'boyarkina, iv', 'boyarkina, iv', 'mukhin, vf', 'nizovskii, ai', 'nizovskii, ai', 'baeva, ma', 'faruntsev, sd', 'kolozova, oa', 'kolozova, oa', 'pavlova, ms', 'shcherbakov, vs', 'shcherbakov, vs', 'ivanov, rn', 'lukyanchik, ai', 'lukyanchik, ai', 'lukyanchik, ai', 'ponomarev, ia', 'ponomarev, ia', 'tyunkov, da', 'yurov, vm', 'iost, kn', 'donuni, n', 'balova, dg', 'stepen, pv', 'stepen, pv', 'sustin, ai', 'chushnyakova, mv', 'chushnyakova, mv', 'chushnyakova, mv', 'shibeev, ea', 'rogachev, e', 'mironova, ev', 'titov, yv', 'yurpalov, vl', 'rout, pc', 'rout, pc', 'gebel, es', 'gebel, es', 'golunov, av', 'storozhenko, nr', 'storozhenko, nr', 'tokarev, mm', 'gebel, e', 'korusenko, pm', 'korusenko, pm', 'golinskii, dv', 'lesnyak, iy', 'nardin, d', 'shalai, vv', 'shalai, vv', 'zatolokina, ev', 'anashkina, n', 'meshcheryakov, va', 'meshcheryakov, va', 'gordeev, oi', 'tiyan, av', 'churankin, vg', 'kusin, r', 'sushko, av', 'filipas, aa', 'rytikov, go', 'rytikov, go', 'rytikov, go', 'pavlovich, ba', 'hodes, a', 'stepanova, ep', 'trenikhin, mv', 'trenikhin, mv', 'trenikhin, mv', 'trenikhin, mv', 'belyakov, ve', 'odinets, ai', 'kolmogorova, ss', 'busarov, ss', 'aubakirova, ak', 'semenyuk, na', 'savkin, v', 'nizovskii, ai', 'nizovskii, ai', 'nigrey, aa', 'serebrennikov, vs', 'serebrennikov, vs', 'leonteva, nn', 'leonteva, nn', 'arbuzov, ab', 'geidarov, vg', 'di, ma', 'fedotova, pa', 'davide, f', 'gontchar, ii', 'gontchar, ii', 'gontchar, ii', 'busarov, is', 'saverina, ea', 'saverina, ea', 'jouikov, vv', 'rechenko, ds', 'rechenko, ds', 'beknazarova, ss', 'yakovlev, bs', 'khmyrova, na', 'goleva, ai', 'goleva, ai', 'golunova, as', 'petrova, ev', 'gorbunov, va', 'tsyrulnikov, pg', 'nayak, bk', 'nayak, bk', 'florensov, an', 'blokhin, av', 'blokhin, av', 'kriventsov, vv', 'tripathi, r', 'tripathi, r', 'ekkert, ao', 'zakharov, av', 'arkhangelskaia, nn', 'belim, sy', 'pochekuyeva, ie', 'sorokin, vn', 'chebanenko, ev', 'glyzdinskaya, lv', 'salanov, an', 'gruzin, av', 'rezanov, em', 'nosov, ey', 'trotsenko, vm', 'rybakov, rv', 'fateeva, as', 'fateeva, as', 'chenykh, ik', 'sushko, av', 'inivatov, dp', 'inivatov, dp', 'mahata, k', 'mahata, k', 'trenikhin, mv', 'trenikhin, mv', 'pogodaev, va', 'belim, sv', 'belim, sv', 'elena, r', 'nadtochy, pn', 'nadtochy, pn', 'nadtochy, pn', 'demidenko, ai', 'parkar, vv', 'blinov, vn', 'blinov, vn', 'jezowski, a', 'shakhova, lv', 'mironenko, rm', 'mironenko, rm', 'zaharov, ya', 'pudovkin, ap', 'pudovkin, ap', 'surovikin, yv', 'borodikhin, sa', 'borodikhin, sa', 'fink, t', 'kitova, e', 'likholobov, va', 'likholobov, va', 'likholobov, va', 'likholobov, va', 'zakreuski, i', 'deneko, mv', 'toder, g', 'rogozhnikov, vn', 'pustovoi, nv', 'pustovoi, nv', 'ordine, a', 'shuvalov, vy', 'shuvalov, vy', 'kovivchak, vs', 'kovivchak, vs', 'korytov, ms', 'bukhtiyarov, vi', 'bukhtiyarov, vi', 'sedykh, da', 'yurkov, vy', 'yurkov, vy', 'ustinov, ea', 'syroeshkin, ma', 'glukhov, vi', 'povoroznyuk, sn', 'povoroznyuk, sn', 'povoroznyuk, sn', 'belyaev, ps', 'belyaev, ps', 'belyaev, ps', 'belousova, as', 'guchenko, sa', 'drozdov, va', 'rasskazova, m', 'pritykin, fn', 'baklanova, on', 'drozdetskaya, ms', 'masyagin, vb', 'schekochikhin, av', 'egorova, va', 'tsekhosh, si', 'ekkert, rv', 'ramachandran, k', 'volochayev, mn', 'vardaci, e', 'vardaci, e', 'cheredov, ai', 'myshkin, vf', 'startseva, yn', 'nosova, ms', 'prete, g', 'tkachenko, o', 'nekhaev, av', 'nekhaev, av', 'nekhaev, av', 'chernigova, s', 'kamenov, ru', 'fedyanin, vv', 'shcherba, ve', 'shcherba, ve', 'shcherba, ve', 'shcherba, ve', 'kikhtenko, va', 'kukushina, kg', 'kukushina, kg', 'glyzdova, dv', 'sitnikov, dv', 'boyarkin, gn', 'boyarkin, gn', 'shrivastava, a', 'shrivastava, a', 'di, na', 'di, na', 'polonyankin, da', 'bobrovsky, v', 'baksht, da', 'kropotin, ov', 'pashkov, vv', 'zanin, av', 'zanin, av', 'myshlyavtseva, md', 'bukhtiyarov, av', 'kostyuchenko, as', 'kostyuchenko, as', 'kostyuchenko, as', 'kostyuchenko, as', 'zaharova, nv', 'khatsevskiy, k', 'fadeeva, ai', 'pogorelova, n', 'nikitin, yb', 'lavrenov, av', 'yudaev, va', 'zubkov, an', 'zubkov, an', 'yuryevich, ne', 'lozhnikov, ps', 'lozhnikov, ps', 'shchelkanov, av', 'tunkov, da', 'nazarov, vg', 'nazarov, vg', 'nazarov, vg', 'mirgule, et', 'dyundik, os', 'vasilevich, av', 'vasilevich, av', 'jhingan, a', 'gushul, yv', 'kisel, a', 'gorbunov, va', 'zakharova, nv', 'kovalev, vz', 'novikov, aa', 'zhansakova, ks', 'mamonova, te', 'fedorov, vk', 'poshelyuzhnaya, eg', 'poshelyuzhnaya, eg', 'poshelyuzhnaya, eg', 'malay, ld', 'shumaylova, ms', 'karabykov, av', 'belim, sv', 'belim, sv', 'belim, sv', 'belim, sv', 'belim, sv', 'belim, sv', 'belim, sv', 'belim, sv', 'belim, sv', 'belim, sv', 'belim, sv', 'belim, sv', 'fisyuk, as', 'borisov, va', 'borisov, va', 'khan, va', 'khan, va', 'shirokov, iv', 'la, rg', 'la, rg', 'vorontsova, ma', 'kuzyakin, ra', 'egorov, mp', 'kozulin, em', 'cinausero, m', 'babushkin, g', 'tatevosyan, aa', 'tatevosyan, aa', 'girshin, ss', 'girshin, ss', 'gritsay, as', 'gritsay, as', 'gritsay, as', 'esbergenov, kb', 'proskuriakov, ne', 'nefedov, di', 'bazhenov, ri', 'donchenko, va', 'shchapova, lv', 'rybakov, rv', 'sapilova, aa', 'sapilova, aa', 'dorofeev, e', 'balakin, pd', 'ovchinnikova, ry', 'parascandolo, c', 'selivanova, zm', 'spanos, pd', 'gorskina, ls', 'paramonov, am', 'paramonov, am', 'orlov, pv', 'orlov, pv', 'poleshchenko, kn', 'poleshchenko, kn', 'panasyuk, yn', 'blesman, ai', 'blesman, ai', 'fedynin, vv', 'kusin, a', 'petrov, vp', 'vinokur, ai', 'barskov, vv', 'kuznetsov, vl', 'kuznetsov, vl', 'temerev, vl', 'moshkov, m', 'horohorin, dm', 'talzi, vp', 'buryan, ya', 'buryan, ya', 'yudintsev, vv', 'filippov, yo', 'khazan, vl', 'sumarokov, vv', 'poteryaev, ik', 'bezzateeva, eg', 'balandin, sf', 'gulyaeva, ti', 'gulyaeva, ti', 'mikhailov, ag', 'myshlyavtseva, md', 'kailas, s', 'kailas, s', 'gribanov, s', 'tyukin, av', 'zanin, av', 'biryukov, sv', 'nefedev, di', 'rodionov, vs', 'savitovich, ta', 'myshlyavtsev, av', 'dyachenko, ay', 'shimanovskaya, yv', 'vorobiev, aa', 'danilov, sv', 'denisov, ov', 'zakharenko, va', 'levenets, av', 'belan, d', 'shlyapin, da', 'shlyapin, da', 'kashchenko, ie', 'akimenko, ss', 'grigorev, av', 'bubnov, av', 'bubnov, av', 'belyi, as', 'belyi, as', 'neznakhina, k', 'neznakhina, k', 'kulakov, yi', 'tyves, li', 'kumar, a', 'fedorova, ei', 'kuznetsova, yv', 'fedyaeva, oa', 'fedyaeva, oa', 'fedyaeva, oa', 'goncharov, ds', 'filonina, ev', 'kvasov, in', 'kvasov, in', 'kladiev, sn', 'shcherbakov, vs', 'stasyuk, aj', 'slepukhin, pa', 'elisheva, va', 'lysenko, oa', 'lysenko, oa', 'paltseva, na', 'stepanova, ln', 'stepanova, ln', 'stepanova, ln', 'kochnev, rl', 'shalai, v', 'sagitullina, gp', 'bagatskii, mi', 'balycheva, va', 'balycheva, va', 'andreeva, eg', 'trenikhin, mv', 'trenikhin, mv', 'salamandra, kb', 'vikulov, eo', 'ponomarev, an', 'pulcini, a', 'pulcini, a', 'pustovoy, n', 'fisyuk, as', 'fisyuk, as', 'fisyuk, as', 'aleksandr, rv', 'efimov, bi', 'sorokin, ia', 'bovdi, va', 'shlyapin, da', 'popov, aa', 'nikolaev, vb', 'nagornova, iv', 'nagornova, iv', 'nagornova, iv', 'nagornova, iv', 'babushkin, e', 'boiano, a', 'chizhik, ma', 'kayumova, tr', 'zgonnik, ip', 'savchenko, oa', 'yachmenev, ps', 'yachmenev, ps', 'nesov, sn', 'nesov, sn', 'prosvirin, ip', 'zamiralova, ta', 'anisimova, gd', 'khachay, my', 'khachay, my', 'khachay, my', 'stepanova, ln', 'bury, gg', 'gorlov, ni', 'temerev, vl', 'gonenko, t', 'stishenko, pv', 'zubavichus, yv', 'schmitt, c', 'panichkin, av', 'panichkin, av', 'pavlyuchenko, e', 'propp, ov', 'belskaya, ob', 'belskaya, ob', 'silkov, mv', 'khramov, ev', 'petin, dz', 'denisova, la', 'denisova, la', 'kotyurgina, as', 'antyaskin, di', 'gerasimov, ey', 'evdokimov, ag', 'myasoedova, tm', 'barabashko, ms', 'tkachenko, va', 'chernenko, sa', 'ilyushchanka, a', 'ilyushchanka, a', 'panchuk, kl', 'kapaev, rr', 'kapaev, rr', 'bhuyan, m', 'bhuyan, m', 'nesterenko, ga', 'khamitov, rn', 'khamitov, rn', 'khamitov, rn', 'khamitov, rn', 'badamshin, am', 'khrapskii, sf', 'goryunov, vn', 'goryunov, vn', 'blesman, ai', 'naumenko, ap', 'khramov, ev', 'egorov, as', 'bannykh, ag', 'paukshtis, ea', 'myshlyavtsev, av', 'solonenko, ap', 'shevlyakov, an', 'shevlyakov, an', 'troshin, pa', 'troshin, pa', 'pandit, sk', 'pandit, sk', 'skobelev, sb', 'danilov, sn', 'glazunov, va', 'knyazheva, gn', 'eletskaya, as', 'drozd, m', 'samotuga, ae', 'korytov, ms', 'korytov, ms', 'kurenkov, ds', 'klyoster, am', 'malgin, gv', 'ogorodnikov, yy', 'ogorodnikov, yy', 'poleschenko, kn', 'monastyrskaya, t', 'sedanova, av', 'potapov, vi', 'surikov, vi', 'digel, i', 'smirnov, da', 'sushko, av', 'sushko, av', 'grigan, aa', 'trapeznikov, ev', 'trapeznikov, ev', 'borisov, va', 'borisov, va', 'shepelev, ao', 'murashova, ao', 'kuznetsova, op', 'leonteva, nn', 'arshinov, ev', 'yusha, vl', 'bigun, ay', 'bigun, ay', 'songin, mv', 'shcheglov, sa', 'chashchin, so', 'varepo, lg', 'varepo, lg', 'varepo, lg', 'varepo, lg', 'varepo, lg', 'varepo, lg', 'varepo, lg', 'russkikh, gs', 'prus, sy', 'karpunina, av', 'ulyankin, eb', 'akimenko, ss', 'akimenko, ss', 'fefelov, vf', 'pierroutsakou, d', 'shcherba, v', 'teslya, ev', 'tatevosyan, as', 'kosarev, ba', 'gulyaeva, ti', 'gulyaeva, ti', 'krutko, aa', 'shatsauskas, al', 'shatsauskas, al', 'shatsauskas, al', 'gruzin, vv', 'bogza, yp', 'korotaev, dn', 'korotaev, dn', 'neftisov, a', 'ivanov, ai', 'krestyaninov, v', 'pyanova, lg', 'pyanova, lg', 'stepashkin, ia', 'polonyankin, da', 'polonyankin, da', 'simakov, av', 'simakov, av', 'vasilev, ev', 'andreyeva, o', 'losev, as', 'losev, as', 'gorlov, n', 'makarov, vv', 'ignatov, sd', 'anikin, vv', 'trushlyakov, vi', 'abramova, es', 'shmatko, m', 'tegzhanov, as', 'evgenyevich, sv', 'nikonova, gv', 'nikonova, gv', 'eremin, en', 'eremin, en', 'eremin, en', 'eremin, en', 'eremin, en', 'eremin, en', 'eremin, en', 'eremin, en', 'charniak, i', 'nosova, ms', 'szewczyk, d', 'surikov, vi', 'knyazheva, oa', 'knyazheva, oa', 'surikov, vi', 'abramov, aa', 'iost, kn', 'abakumov, an', 'kraynik, v', 'chernenko, sa', 'chernenko, sa', 'surovikin, yv', 'surovikin, yv', 'bunkov, ds', 'afonasenko, tn', 'kopyrin, va', 'kaneva, o', 'kudryavtseva, is', 'zharikov, ki', 'zharikov, ki', 'trushlyakov, vi', 'vladimirovich, sv', 'khamitov, rn', 'khamitov, rn', 'khamitov, rn', 'khachay, m', 'khachay, m', 'khachay, m', 'kobylskii, re', 'vinichenko, nv', 'vinichenko, nv', 'lyubchinov, ev', 'rybalov, an', 'rybalov, an', 'galushko, as', 'rudyak, yv', 'smorodin, gs', 'bogachkov, i', 'filatova, tn', 'matvienko, aa', 'matvienko, aa', 'sinogina, ka', 'titenko, vv', 'basakin, vv', 'orlova, ey', 'musiyak, vv', 'kozlov, ag', 'kulikov, gb', 'bukhtiyarov, vi', 'gupta, s', 'gupta, s', 'saxena, a', 'saxena, a', 'kabanov, aa', 'gelli, n', 'pirrotta, a', 'umansky, iy', 'tokarev, aa', 'kirovskaya, ia', 'kirovskaya, ia', 'zykina, a', 'divin, ag', 'glazyrin, as', 'glazyrin, as', 'vavilov, is', 'vavilov, is', 'belskaya, ob', 'belskaya, ob', 'belskaya, ob', 'belskaya, ob', 'belskaya, ob', 'belskaya, ob', 'belan, dy', 'stishenko, pv', 'trapeznikova, ov', 'trapeznikova, ov', 'trapeznikova, ov', 'trapeznikova, ov', 'ananikov, vp', 'nazarov, pv', 'bogachkov, iv', 'bogachkov, iv', 'ivanov, av', 'nasirov, ak', 'nasirov, ak', 'karabtsov, rd', 'karabtsov, rd', 'petin, di', 'petin, di', 'petin, di', 'petin, di', 'chigrinova, ea', 'slobodina, en', 'kirichenko, an', 'garibyan, gs', 'yanvarev, ia', 'serkova, an', 'balabanov, pv', 'yuldasheva, ga', 'sulavko, ae', 'sulavko, ae', 'sulavko, ae', 'sulavko, ae', 'petin, di', 'dolbin, av', 'smerdin, an', 'dolgova, ey', 'sokolov, dv', 'titenko, vv', 'titenko, vv', 'krol, ov', 'moseenkov, si']\n"
          ],
          "name": "stdout"
        }
      ]
    }
  ]
}